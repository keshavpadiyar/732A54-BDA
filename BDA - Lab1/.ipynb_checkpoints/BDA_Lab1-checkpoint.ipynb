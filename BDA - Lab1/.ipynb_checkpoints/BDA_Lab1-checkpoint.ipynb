{
 "cells": [
  {
   "cell_type": "code",
   "execution_count": null,
   "metadata": {},
   "outputs": [],
   "source": [
    "from pyspark import SparkContext\n",
    "import pyspark.sql.functions as F\n",
    "from operator import add\n",
    "import sys\n",
    "\n",
    "# Set up Spark Context\n",
    "sc = SparkContext(appName = \"BDA Lab1\")\n",
    "\n",
    "\n",
    "# Reading Temperature data\n",
    "rdd_tempReadings = sc.textFile(\"file:///home/x_kesma/Lab1/input_data/temperature-readings.csv\") \\\n",
    "                            .map(lambda line: line.split(\";\"))\n",
    "\n",
    "# Reading Precipitation data\n",
    "rdd_precReadings = sc.textFile(\"file:///home/x_kesma/Lab1/input_data/precipitation-readings.csv\") \\\n",
    "                            .map(lambda line: line.split(\";\"))\n",
    "\n",
    "# Reading Ostergotland Stations data\n",
    "rdd_OstStations = sc.textFile(\"file:///home/x_kesma/Lab1/input_data/stations-Ostergotland.csv\")\\\n",
    "                            .map(lambda line: line.split(\";\"))\\\n",
    "                            .map(lambda line:int(line[0]))\n"
   ]
  },
  {
   "cell_type": "code",
   "execution_count": null,
   "metadata": {},
   "outputs": [],
   "source": [
    "\n",
    "print(\"Executing Q1\")\n",
    "rdd_filtered_1 = rdd_tempReadings.filter(lambda line: (int(line[1][0:4]))>=1950 and int(line[1][0:4])<=2014) \\\n",
    "                            .map(lambda line: (line[1][0:4],(float(line[3]))))\n",
    "\n",
    "# 1_1\n",
    "# Maximum Temp for each year\n",
    "max_Temp = (rdd_filtered_1.reduceByKey(max)\\\n",
    "            .sortBy(keyfunc=lambda k: k[0],ascending = False))\n",
    "\n",
    "# Save the output\n",
    "max_Temp.repartition(1).saveAsTextFile('file:///home/x_kesma/Lab1/input_data/results/BDA_LAB1/Q1_1/')\n"
   ]
  },
  {
   "cell_type": "markdown",
   "metadata": {},
   "source": [
    "### Result:\n",
    "<img src=\"Images/Q1_1.png\" width=\"200\" height=\"200\">"
   ]
  },
  {
   "cell_type": "code",
   "execution_count": null,
   "metadata": {},
   "outputs": [],
   "source": [
    "# 1_2\n",
    "# Minimum Temp for each year\n",
    "min_Temp = (rdd_filtered_1.reduceByKey(min)\\\n",
    "            .sortBy(keyfunc=lambda k: k[0],ascending = False))\n",
    "\n",
    "\n",
    "min_Temp.repartition(1).saveAsTextFile('file:///home/x_kesma/Lab1/input_data/results/BDA_LAB1/Q1_2/')"
   ]
  },
  {
   "cell_type": "markdown",
   "metadata": {},
   "source": [
    "### Result:\n",
    "<img src=\"Images/Q1_2.png\" width=\"200\" height=\"200\">"
   ]
  },
  {
   "cell_type": "code",
   "execution_count": null,
   "metadata": {},
   "outputs": [],
   "source": [
    "# 2_1 Count the number of readings for each month in the period of 1950-2014 which are higher than 10 degrees \n",
    "print(\"Executing Q2_1\")\n",
    "rdd_filtered_2_1 = rdd_tempReadings.filter(lambda line: ((int(line[1][0:4]))>=1950\\\n",
    "                                                       and int(line[1][0:4])<=2014)\\\n",
    "                                                       and float(line[3]) >10 )\\\n",
    "                                .map(lambda line: ((line[1][0:4], line[1][5:7]),(line[0],float(line[3]))))\\\n",
    "                                .countByKey()\n",
    "\n",
    "out_2_1 = sc.parallelize(sorted(rdd_filtered_2_1.items(), key = lambda v:v[1], reverse = True))\n",
    "\n",
    "out_2_1.repartition(1).saveAsTextFile('file:///home/x_kesma/Lab1/input_data/results/BDA_LAB1/Q2_1/')"
   ]
  },
  {
   "cell_type": "markdown",
   "metadata": {},
   "source": [
    "### Result:\n",
    "<img src=\"Images/Q2_1.png\" width=\"200\" height=\"200\">"
   ]
  },
  {
   "cell_type": "code",
   "execution_count": null,
   "metadata": {},
   "outputs": [],
   "source": [
    "# 2_2 Repeat the exercise,this time taking only distinct readings from each station.\n",
    "# That is, if a station reported a reading above 10 degrees in some month, then itappears only\n",
    "# once in the count for that month\n",
    "\n",
    "print(\"Executing Q2_2\")\n",
    "rdd_filtered_2_2 = rdd_tempReadings.filter(lambda line: ((int(line[1][0:4]))>=1950\\\n",
    "                                                       and int(line[1][0:4])<=2014)\\\n",
    "                                                       and float(line[3]) >10 )\\\n",
    "                                .map(lambda line: (line[1][0:4], line[1][5:7],line[0]))\\\n",
    "                                .distinct()\\\n",
    "                                .map(lambda line: ((line[0],line[1]),(line[2])))\\\n",
    "                                .countByKey()\n",
    "out_2_2 = sc.parallelize(sorted(rdd_filtered_2_2.items(), key = lambda v:v[1], reverse = True))\n",
    "\n",
    "out_2_2.repartition(1).saveAsTextFile('file:///home/x_kesma/Lab1/input_data/results/BDA_LAB1/Q2_2/')"
   ]
  },
  {
   "cell_type": "markdown",
   "metadata": {},
   "source": [
    "### Result:\n",
    "<img src=\"Images/Q2_2.png\" width=\"200\" height=\"200\">"
   ]
  },
  {
   "cell_type": "code",
   "execution_count": null,
   "metadata": {},
   "outputs": [],
   "source": [
    "# 3 Find the average monthly temperature for each available station in Sweden. Your result\n",
    "#should include average temperature for each station for each month in the period of 1960-\n",
    "#2014. Bear in mind that not every station has the readings for each month in this timeframe.\n",
    "\n",
    "print(\"Executing Q3\")\n",
    "rdd_filtered_3 = rdd_tempReadings.filter(lambda line: (int(line[1][0:4]))>=1950 and int(line[1][0:4])<=2014) \\\n",
    "                            .map(lambda line: ((line[1][0:4], line[1][5:7], line[0]),(float(line[3]))))\\\n",
    "                            .groupByKey()\\\n",
    "                            .mapValues(lambda val: sum(val)/len(val))\n",
    "out_3 = (rdd_filtered_3\\\n",
    "            .sortBy(keyfunc=lambda k: (k[0][2],k[0][0],k[0][1]),ascending = False))\n",
    "\n",
    "out_3.saveAsTextFile('file:///home/x_kesma/Lab1/input_data/results/BDA_LAB1/Q3/')\n"
   ]
  },
  {
   "cell_type": "markdown",
   "metadata": {},
   "source": [
    "### Result:\n",
    "<img src=\"Images/Q3.png\" width=\"200\" height=\"200\">"
   ]
  },
  {
   "cell_type": "code",
   "execution_count": null,
   "metadata": {},
   "outputs": [],
   "source": [
    "# 4 Provide a list of stations with their associated maximum measured temperatures and\n",
    "# maximum measured daily precipitation. Show only those stations where the maximum\n",
    "# temperature is between 25 and 30 degrees and maximum daily precipitation is between 100mm and 200mm.\n",
    "\n",
    "print(\"Executing Q4\")\n",
    "rdd_filter_4 = rdd_precReadings\\\n",
    "                            .filter(lambda line: float(line[3])>=100 and float(line[3])<=200)\\\n",
    "                            .map(lambda line: (line[0],line[3]))\\\n",
    "                            .reduceByKey(max)\n",
    "        \n",
    "\n",
    "rdd_tempReadings_4 = rdd_tempReadings.filter(lambda line: float(line[3])>=25 and float(line[3]<=30) )\\\n",
    "                                     .map(lambda line: (line[0],line[3]))\\\n",
    "                                     .reduceByKey(max)\n",
    "\n",
    "rdd_result = rdd_tempReadings_4.join(rdd_filter_4)\n",
    "\n",
    "rdd_result.repartition(1).saveAsTextFile('file:///home/x_kesma/Lab1/input_data/results/BDA_LAB1/Q4/')\n",
    "\n"
   ]
  },
  {
   "cell_type": "markdown",
   "metadata": {},
   "source": [
    "### Result: \n",
    "\n",
    "No Resultset obtained"
   ]
  },
  {
   "cell_type": "code",
   "execution_count": null,
   "metadata": {},
   "outputs": [],
   "source": [
    "### 5 Calculate the average monthly precipitation for the Ostergotland region (list of stations is provided in the separate file)\n",
    "### for the period 1993-2016. In order to do this, you will first need to calculate the totalmonthly precipitation for each \n",
    "### station before calculating the monthly average (by averaging over stations).\n",
    "\n",
    "print(\"Executing Q5\")\n",
    "list_OstStations = rdd_OstStations.collect()\n",
    "\n",
    "broadcastVar = sc.broadcast(list_OstStations)\n",
    "\n",
    "rdd_filter_5 = rdd_precReadings.filter(lambda line: (int(line[0]) in broadcastVar.value) and\\\n",
    "                                                    (int(line[1][0:4])>=1993 and int(line[1][0:4])<=2016))\\\n",
    "                            .map(lambda line: ((line[1][0:4], line[1][5:7], line[0]),(float(line[3]))))\\\n",
    "                            .reduceByKey(add)\\\n",
    "                            .map(lambda line:((line[0][0], line[0][1]),(line[1])))\\\n",
    "                            .groupByKey()\\\n",
    "                            .mapValues(lambda val:sum(val)/len(val))\n",
    "\n",
    "rdd_filter_5 = (rdd_filter_5\\\n",
    "            .sortBy(keyfunc=lambda k: (k[0][0],k[0][1]),ascending = False))\n",
    "\n",
    "\n",
    "rdd_filter_5.repartition(1).saveAsTextFile('file:///home/x_kesma/Lab1/input_data/results/BDA_LAB1/Q5/')\n",
    "\n",
    "sys.exit(0)"
   ]
  },
  {
   "cell_type": "markdown",
   "metadata": {},
   "source": [
    "### Result:\n",
    "<img src=\"Images/Q5.png\" width=\"200\" height=\"200\">"
   ]
  }
 ],
 "metadata": {
  "kernelspec": {
   "display_name": "Python 3",
   "language": "python",
   "name": "python3"
  },
  "language_info": {
   "codemirror_mode": {
    "name": "ipython",
    "version": 3
   },
   "file_extension": ".py",
   "mimetype": "text/x-python",
   "name": "python",
   "nbconvert_exporter": "python",
   "pygments_lexer": "ipython3",
   "version": "3.8.5"
  }
 },
 "nbformat": 4,
 "nbformat_minor": 4
}
