{
 "cells": [
  {
   "cell_type": "markdown",
   "metadata": {},
   "source": [
    "# BDA - Lab 2 : Spark SQL\n",
    "\n",
    "__Student1:__ Akshay Gurudath(Aksgu350)\n",
    "\n",
    "__Student2:__ Keshav Padiyar Manuru(Kespa139)"
   ]
  },
  {
   "cell_type": "code",
   "execution_count": null,
   "metadata": {},
   "outputs": [],
   "source": [
    "from pyspark import SparkContext\n",
    "from pyspark.sql import SparkSession\n",
    "import pyspark.sql.functions as F\n",
    "from operator import add\n",
    "import sys\n",
    "\n",
    "# Set up Spark Context\n",
    "sc = SparkContext(appName = \"BDA Lab2\")\n",
    "spark = SparkSession.builder.getOrCreate()\n",
    "\n",
    "# Reading Data\n",
    "df_tempReadings = spark.read.csv(\"file:///home/x_kesma/Lab1/input_data/temperature-readings.csv\", header = False, sep = ';' )\n",
    "df_tempReadings = df_tempReadings.withColumnRenamed(\"_c0\", \"stationNumber\")\\\n",
    "                                 .withColumnRenamed(\"_c1\", \"date\")\\\n",
    "                                 .withColumnRenamed(\"_c2\", \"time\")\\\n",
    "                                 .withColumnRenamed(\"_c3\", \"airTemperature\")\\\n",
    "                                 .withColumnRenamed(\"_c4\", \"quality\")\n",
    "\n",
    "df_precipitation = spark.read.csv(\"file:///home/x_kesma/Lab1/input_data/precipitation-readings.csv\", header = False, sep = ';' )\n",
    "df_precipitation = df_precipitation.withColumnRenamed(\"_c0\", \"stationNumber\")\\\n",
    "                                 .withColumnRenamed(\"_c1\", \"date\")\\\n",
    "                                 .withColumnRenamed(\"_c2\", \"time\")\\\n",
    "                                 .withColumnRenamed(\"_c3\", \"precipitation\")\\\n",
    "                                 .withColumnRenamed(\"_c4\", \"quality\")\n",
    "\n",
    "rdd_OstStations = sc.textFile(\"file:///home/x_kesma/Lab1/input_data/stations-Ostergotland.csv\")\\\n",
    "                            .map(lambda line: line.split(\";\"))\\\n",
    "                            .map(lambda line:line[0])"
   ]
  },
  {
   "cell_type": "code",
   "execution_count": null,
   "metadata": {},
   "outputs": [],
   "source": [
    "# Assignment 1: What are the lowest and highest temperatures measured each year for the period 1950-2014.\n",
    "# Using Dataframes\n",
    "\n",
    "\n",
    "df_filtered_1 = df_tempReadings.select(\"stationNumber\", F.year(F.col('date')).alias(\"Year\"),\\\n",
    "                                     F.col(\"airTemperature\").cast(\"float\"))\\\n",
    "                              .filter((F.col(\"Year\")>=1950) & ((F.col(\"Year\")<=2014)))\n",
    "\n",
    "out = df_filtered_1.groupBy(\"Year\")\\\n",
    "            .agg(F.min('airTemperature').alias('MinTemp'),F.max('airTemperature').alias('MaxTemp'))\\\n",
    "            .orderBy(\"Year\")\n",
    "            \n",
    "out.repartition(1).write.csv(\"file:///home/x_kesma/Lab1/input_data/results/BDA_LAB2/Q1\",sep=\",\", header=True)"
   ]
  },
  {
   "cell_type": "markdown",
   "metadata": {},
   "source": [
    "### Result:\n",
    "<img src=\"Images/Q1.png\" width=\"200\" height=\"200\">"
   ]
  },
  {
   "cell_type": "code",
   "execution_count": null,
   "metadata": {},
   "outputs": [],
   "source": [
    "# 2_1 Count the number of readings for each month in the period of 1950-2014 which are higher than 10 degrees\n",
    "\n",
    "df_filtered_2 = df_tempReadings.select(\"stationNumber\", F.year(F.col('date')).alias(\"Year\"),\\\n",
    "                                     F.month(F.col(\"date\")).alias(\"Month\"),\\\n",
    "                                     F.col(\"airTemperature\").cast(\"float\"))\\\n",
    "                              .filter(((F.col(\"Year\")>=1950) & ((F.col(\"Year\")<=2014))) &(F.col(\"airTemperature\")>10))\n",
    "                                      \n",
    "out = df_filtered_2.groupBy(\"Year\", \"Month\")\\\n",
    "             .agg(F.count(\"stationNumber\").alias(\"Value\"))\\\n",
    "             .orderBy(\"value\",ascending=False)\n",
    "\n",
    "out.repartition(1).write.csv(\"file:///home/x_kesma/Lab1/input_data/results/BDA_LAB2/Q2_1\",sep=\",\", header=True)"
   ]
  },
  {
   "cell_type": "markdown",
   "metadata": {},
   "source": [
    "### Result:\n",
    "<img src=\"Images/Q2_1.png\" width=\"200\" height=\"200\">"
   ]
  },
  {
   "cell_type": "code",
   "execution_count": null,
   "metadata": {},
   "outputs": [],
   "source": [
    "# 2_2 Repeat the exercise,this time taking only distinct readings from each station.\n",
    "# That is, if a station reported a reading above 10 degrees in some month, then itappears only\n",
    "# once in the count for that month\n",
    "\n",
    "out = df_filtered_2.groupBy(\"Year\", \"Month\")\\\n",
    "             .agg(F.countDistinct(\"stationNumber\").alias(\"Value\"))\\\n",
    "             .orderBy(\"value\",ascending=False)\n",
    "\n",
    "out.repartition(1).write.csv(\"file:///home/x_kesma/Lab1/input_data/results/BDA_LAB2/Q2_2\",sep=\",\", header=True)"
   ]
  },
  {
   "cell_type": "markdown",
   "metadata": {},
   "source": [
    "### Result:\n",
    "<img src=\"Images/Q2_2.png\" width=\"200\" height=\"200\">"
   ]
  },
  {
   "cell_type": "code",
   "execution_count": null,
   "metadata": {},
   "outputs": [],
   "source": [
    "# 3 Find the average monthly temperature for each available station in Sweden. Your result\n",
    "#should include average temperature for each station for each month in the period of 1960-\n",
    "#2014. Bear in mind that not every station has the readings for each month in this timeframe.\n",
    "\n",
    "df_filtered_3 = df_tempReadings.select(\"stationNumber\", F.year(F.col('date')).alias(\"Year\"),\\\n",
    "                                     F.month(F.col(\"date\")).alias(\"Month\"),\\\n",
    "                                     F.col(\"airTemperature\").cast(\"float\"))\\\n",
    "                              .filter((F.col(\"Year\")>=1960) & ((F.col(\"Year\")<=2014)))\n",
    "\n",
    "out = df_filtered_3.groupBy(\"stationNumber\",\"Year\", \"Month\")\\\n",
    "             .agg(F.avg(\"airTemperature\").alias(\"avgMonthlyTemperature\"))\\\n",
    "             .orderBy(\"stationNumber\",\"Year\", \"Month\",ascending=False)\n",
    "\n",
    "out.repartition(1).write.csv(\"file:///home/x_kesma/Lab1/input_data/results/BDA_LAB2/Q3\",sep=\",\", header=True)"
   ]
  },
  {
   "cell_type": "markdown",
   "metadata": {},
   "source": [
    "### Result:\n",
    "<img src=\"Images/Q3.png\" width=\"200\" height=\"200\">"
   ]
  },
  {
   "cell_type": "code",
   "execution_count": null,
   "metadata": {},
   "outputs": [],
   "source": [
    "### Fixed Code: Added additonal group by to get the daily max precipitation.\n",
    "\n",
    "# 4 Provide a list of stations with their associated maximum measured temperatures and\n",
    "# maximum measured daily precipitation. Show only those stations where the maximum\n",
    "# temperature is between 25 and 30 degrees and maximum daily precipitation is between 100mm and 200mm\n",
    "\n",
    "\n",
    "df_filtered_temp = df_tempReadings.select(\"stationNumber\",\\\n",
    "                                     F.col(\"airTemperature\").cast(\"float\"))\\\n",
    "                                  .groupBy(\"stationNumber\")\\\n",
    "                                  .agg(F.max(\"airTemperature\").alias(\"maxTemp\"))\\\n",
    "                                  .filter((F.col(\"maxTemp\")>=25) & ((F.col(\"maxTemp\")<=30)))\n",
    "\n",
    "df_filtered_preci = df_precipitation.select(\"stationNumber\",\"date\",\\\n",
    "                                     F.col(\"precipitation\").cast(\"float\"))\\\n",
    "                              .groupBy(\"stationNumber\")\\\n",
    "                              .agg(F.sum(\"precipitation\").alias(\"precipitation\"))\\\n",
    "                              .select(\"stationNumber\",\"precipitation\")\\\n",
    "                              .groupBy(\"stationNumber\")\\\n",
    "                              .agg(F.max(\"precipitation\").alias(\"maxDailyPrecipitation\"))\\\n",
    "                              .filter((F.col(\"maxDailyPrecipitation\")>=100) & ((F.col(\"maxDailyPrecipitation\")<=200)))\n",
    "\n",
    "out = df_filtered_temp.alias(\"a\").join(df_filtered_preci.alias(\"b\"),\n",
    "                                           F.col(\"a.stationNumber\")==F.col(\"b.stationNumber\"),\"inner\")\\\n",
    "                                     .select(\"a.stationNumber\", \"a.maxTemp\", \"b.maxDailyPrecipitation\")\n",
    "\n",
    "out.repartition(1).write.csv(\"file:///home/x_kesma/Lab1/input_data/results/BDA_LAB2/Q4\",sep=\",\", header=True)"
   ]
  },
  {
   "cell_type": "markdown",
   "metadata": {},
   "source": [
    "### Result:\n",
    "\n",
    "No Resultset Obtained"
   ]
  },
  {
   "cell_type": "code",
   "execution_count": null,
   "metadata": {},
   "outputs": [],
   "source": [
    "# 5 Calculate the average monthly precipitation for the Ostergotland region (list of stations is provided in the separate file)\n",
    "# for the period 1993-2016. In order to do this, you will first need to calculate the totalmonthly precipitation for each \n",
    "# station before calculating the monthly average (by averaging over stations).\n",
    "\n",
    "list_OstStations = rdd_OstStations.collect()\n",
    "\n",
    "broadcastVar = sc.broadcast(list_OstStations)\n",
    "\n",
    "df_filtered_preci_5 = df_precipitation.select(\"stationNumber\",\\\n",
    "                                     F.year(F.col('date')).alias(\"Year\"),\\\n",
    "                                     F.month(F.col(\"date\")).alias(\"Month\"),\\\n",
    "                                     F.col(\"precipitation\").cast(\"float\"))\\\n",
    "                              .filter(((F.col(\"Year\")>=1993) & ((F.col(\"Year\")<=2016))) & (F.col(\"stationNumber\").isin(broadcastVar.value)))\n",
    "\n",
    "out = df_filtered_preci_5.groupBy(\"Year\", \"Month\",\"stationNumber\")\\\n",
    "             .agg(F.sum(\"precipitation\").alias(\"Sum\"))\\\n",
    "             .groupBy(\"Year\", \"Month\")\\\n",
    "             .agg(F.avg(\"Sum\").alias(\"avgMonthlyPrecipitation\"))\\\n",
    "             .orderBy(\"year\",\"Month\",ascending=False)\n",
    "\n",
    "out.repartition(1).write.csv(\"file:///home/x_kesma/Lab1/input_data/results/BDA_LAB2/Q5\",sep=\",\", header=True)\n",
    "\n",
    "sys.exit(0)"
   ]
  },
  {
   "cell_type": "markdown",
   "metadata": {},
   "source": [
    "### Result:\n",
    "<img src=\"Images/Q5.png\" width=\"200\" height=\"200\">"
   ]
  }
 ],
 "metadata": {
  "kernelspec": {
   "display_name": "Python 3",
   "language": "python",
   "name": "python3"
  },
  "language_info": {
   "codemirror_mode": {
    "name": "ipython",
    "version": 3
   },
   "file_extension": ".py",
   "mimetype": "text/x-python",
   "name": "python",
   "nbconvert_exporter": "python",
   "pygments_lexer": "ipython3",
   "version": "3.8.5"
  }
 },
 "nbformat": 4,
 "nbformat_minor": 4
}
